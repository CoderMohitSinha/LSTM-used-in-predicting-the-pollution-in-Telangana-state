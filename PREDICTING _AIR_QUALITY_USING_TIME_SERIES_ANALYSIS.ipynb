{
 "cells": [
  {
   "cell_type": "markdown",
   "metadata": {},
   "source": [
    "<p style=\"font-size:200%;text-align:center;font-family:verdana\">PREDICTING  AIR QUALITY USING TIME SERIES ANALYSIS<p>"
   ]
  },
  {
   "cell_type": "markdown",
   "metadata": {},
   "source": [
    "<h1>1.Data Information</h1>"
   ]
  },
  {
   "cell_type": "markdown",
   "metadata": {},
   "source": [
    "<h2>1.1 Data Source</h2>\n",
    "<h2>Source:</h2><br>\n",
    "1.https://data.gov.in/resources/location-wise-daily-ambient-air-quality-telangana-year-2014<br>\n",
    "2.https://data.gov.in/resources/location-wise-daily-ambient-air-quality-telangana-year-2015\n",
    " "
   ]
  },
  {
   "cell_type": "markdown",
   "metadata": {},
   "source": [
    "<h2>1.2Data Overview</h2>\n",
    "\n",
    "<img src=\"dataoverview_snapshot.png\" alt=\"Data Overview\">\n",
    "\n",
    "1. Stn_code: Represents code of a Place.<br>\n",
    "2. Date: On which date the readings are taken.<br>\n",
    "3. State: Telangana.<br>\n",
    "4. City: Represent cities in Telangana state.<br>\n",
    "5. Location: The place in city where the readings are taken.<br>\n",
    "6. Agency: By which board the readings are taken(Andhra Pradesh State Pollution Control Board).<br>\n",
    "7. Area : They are Industrial Areas, Sensitive Areas and Residential Areas<br>\n",
    "8.  SO2: Sulphur Dioxide\n",
    "9.  NO2: Nitrogen dioxide\n",
    "10. PM10:Particulate matter"
   ]
  },
  {
   "cell_type": "markdown",
   "metadata": {},
   "source": [
    "<h2>1.3 Performance metrics</h2>\n",
    "\n",
    "Mean Absolute error : MAE is the average of the absolute difference between the predicted values and observed value."
   ]
  },
  {
   "cell_type": "markdown",
   "metadata": {},
   "source": [
    "## 2.Exploratory Data Analysis"
   ]
  },
  {
   "cell_type": "code",
   "execution_count": 1,
   "metadata": {},
   "outputs": [
    {
     "name": "stderr",
     "output_type": "stream",
     "text": [
      "C:\\ProgramData\\Anaconda3\\lib\\site-packages\\h5py\\__init__.py:36: FutureWarning: Conversion of the second argument of issubdtype from `float` to `np.floating` is deprecated. In future, it will be treated as `np.float64 == np.dtype(float).type`.\n",
      "  from ._conv import register_converters as _register_converters\n",
      "Using TensorFlow backend.\n"
     ]
    }
   ],
   "source": [
    "from matplotlib import pyplot\n",
    "import pandas as pd\n",
    "from sklearn.preprocessing import MinMaxScaler\n",
    "from sklearn.preprocessing import LabelEncoder\n",
    "from sklearn.metrics import mean_squared_error\n",
    "from keras.models import Sequential\n",
    "from keras.layers import Dense\n",
    "from keras.layers import LSTM\n",
    "import warnings\n",
    "warnings.filterwarnings('ignore')"
   ]
  },
  {
   "cell_type": "markdown",
   "metadata": {},
   "source": [
    "<h2>2.1.Data Pre-processing</h2>"
   ]
  },
  {
   "cell_type": "code",
   "execution_count": 2,
   "metadata": {},
   "outputs": [],
   "source": [
    "# loding the dataset\n",
    "dataset =pd.read_csv('dataframe.csv')"
   ]
  },
  {
   "cell_type": "code",
   "execution_count": 3,
   "metadata": {},
   "outputs": [
    {
     "data": {
      "text/plain": [
       "pandas.core.frame.DataFrame"
      ]
     },
     "execution_count": 3,
     "metadata": {},
     "output_type": "execute_result"
    }
   ],
   "source": [
    "type(dataset)"
   ]
  },
  {
   "cell_type": "code",
   "execution_count": 4,
   "metadata": {},
   "outputs": [
    {
     "data": {
      "text/plain": [
       "Unnamed: 0    0\n",
       "Stn_code      0\n",
       "Date          0\n",
       "State         0\n",
       "City          0\n",
       "Location      0\n",
       "Agency        0\n",
       "Area          0\n",
       "SO2           0\n",
       "NO2           0\n",
       "PM10          0\n",
       "dtype: int64"
      ]
     },
     "execution_count": 4,
     "metadata": {},
     "output_type": "execute_result"
    }
   ],
   "source": [
    "dataset.isnull().sum()"
   ]
  },
  {
   "cell_type": "markdown",
   "metadata": {},
   "source": [
    "* As we observe there are no null values in the dataset."
   ]
  },
  {
   "cell_type": "code",
   "execution_count": 5,
   "metadata": {},
   "outputs": [
    {
     "data": {
      "text/plain": [
       "Index(['Unnamed: 0', 'Stn_code', 'Date', 'State', 'City', 'Location', 'Agency',\n",
       "       'Area', 'SO2', 'NO2', 'PM10'],\n",
       "      dtype='object')"
      ]
     },
     "execution_count": 5,
     "metadata": {},
     "output_type": "execute_result"
    }
   ],
   "source": [
    "# Displaying the column names\n",
    "dataset.columns"
   ]
  },
  {
   "cell_type": "code",
   "execution_count": 6,
   "metadata": {},
   "outputs": [],
   "source": [
    "#Changing the names of the columns\n",
    "dataset.columns=['index','Stn_code','Date','State','City','Location','Agency','Area','SO2','NO2','PM10']"
   ]
  },
  {
   "cell_type": "code",
   "execution_count": 7,
   "metadata": {},
   "outputs": [],
   "source": [
    "dataset=dataset.drop(columns=['index','State','City','Location','Agency','Area'])"
   ]
  },
  {
   "cell_type": "markdown",
   "metadata": {},
   "source": [
    "* Droping the columns that are not required for analysis"
   ]
  },
  {
   "cell_type": "markdown",
   "metadata": {},
   "source": [
    "### 2.1.1.Changing the values of SO2, NO2, PM10 to a single unit as Air Quality Index(AQI)"
   ]
  },
  {
   "cell_type": "markdown",
   "metadata": {},
   "source": [
    "#### AQI=I.low+((I.high-I.low)*(C-C.low)/(C.high-C.low))<br>\n",
    "where:<br>\n",
    "I =  the (Air Quality) index,<br>\n",
    "C =  the pollutant concentration,<br>\n",
    "C.low=  the concentration breakpoint that is ≤ C,<br>\n",
    "C.high=  the concentration breakpoint that is  ≥ C,<br>\n",
    "I.low=  the index breakpoint corresponding to C.low,<br>\n",
    "I.high=  the index breakpoint corresponding to C,high.<br>\n",
    "#### reference:https://en.wikipedia.org/wiki/Air_quality_index"
   ]
  },
  {
   "cell_type": "code",
   "execution_count": 8,
   "metadata": {},
   "outputs": [
    {
     "data": {
      "text/html": [
       "<div>\n",
       "<style scoped>\n",
       "    .dataframe tbody tr th:only-of-type {\n",
       "        vertical-align: middle;\n",
       "    }\n",
       "\n",
       "    .dataframe tbody tr th {\n",
       "        vertical-align: top;\n",
       "    }\n",
       "\n",
       "    .dataframe thead th {\n",
       "        text-align: right;\n",
       "    }\n",
       "</style>\n",
       "<table border=\"1\" class=\"dataframe\">\n",
       "  <thead>\n",
       "    <tr style=\"text-align: right;\">\n",
       "      <th></th>\n",
       "      <th>SO2</th>\n",
       "      <th>si</th>\n",
       "    </tr>\n",
       "  </thead>\n",
       "  <tbody>\n",
       "    <tr>\n",
       "      <th>0</th>\n",
       "      <td>5.0</td>\n",
       "      <td>6.25</td>\n",
       "    </tr>\n",
       "    <tr>\n",
       "      <th>1</th>\n",
       "      <td>5.0</td>\n",
       "      <td>6.25</td>\n",
       "    </tr>\n",
       "    <tr>\n",
       "      <th>2</th>\n",
       "      <td>5.0</td>\n",
       "      <td>6.25</td>\n",
       "    </tr>\n",
       "    <tr>\n",
       "      <th>3</th>\n",
       "      <td>6.0</td>\n",
       "      <td>7.50</td>\n",
       "    </tr>\n",
       "    <tr>\n",
       "      <th>4</th>\n",
       "      <td>5.0</td>\n",
       "      <td>6.25</td>\n",
       "    </tr>\n",
       "  </tbody>\n",
       "</table>\n",
       "</div>"
      ],
      "text/plain": [
       "   SO2    si\n",
       "0  5.0  6.25\n",
       "1  5.0  6.25\n",
       "2  5.0  6.25\n",
       "3  6.0  7.50\n",
       "4  5.0  6.25"
      ]
     },
     "execution_count": 8,
     "metadata": {},
     "output_type": "execute_result"
    }
   ],
   "source": [
    "#Function to calculate so2 individual pollutant index(si)\n",
    "def calculate_si(so2):\n",
    "    si=0\n",
    "    if (so2<=40):\n",
    "         si= so2*(50/40)\n",
    "    if (so2>40 and so2<=80):\n",
    "         si= 50+(so2-40)*(50/40)\n",
    "    if (so2>80 and so2<=380):\n",
    "         si= 100+(so2-80)*(100/300)\n",
    "    if (so2>380 and so2<=800):\n",
    "         si= 200+(so2-380)*(100/800)\n",
    "    if (so2>800 and so2<=1600):\n",
    "         si= 300+(so2-800)*(100/800)\n",
    "    if (so2>1600):\n",
    "         si= 400+(so2-1600)*(100/800)\n",
    "    return si\n",
    "dataset['si']=dataset['SO2'].apply(calculate_si)\n",
    "df= dataset[['SO2','si']]\n",
    "df.head()"
   ]
  },
  {
   "cell_type": "code",
   "execution_count": 9,
   "metadata": {},
   "outputs": [
    {
     "data": {
      "text/html": [
       "<div>\n",
       "<style scoped>\n",
       "    .dataframe tbody tr th:only-of-type {\n",
       "        vertical-align: middle;\n",
       "    }\n",
       "\n",
       "    .dataframe tbody tr th {\n",
       "        vertical-align: top;\n",
       "    }\n",
       "\n",
       "    .dataframe thead th {\n",
       "        text-align: right;\n",
       "    }\n",
       "</style>\n",
       "<table border=\"1\" class=\"dataframe\">\n",
       "  <thead>\n",
       "    <tr style=\"text-align: right;\">\n",
       "      <th></th>\n",
       "      <th>NO2</th>\n",
       "      <th>ni</th>\n",
       "    </tr>\n",
       "  </thead>\n",
       "  <tbody>\n",
       "    <tr>\n",
       "      <th>0</th>\n",
       "      <td>26.0</td>\n",
       "      <td>32.50</td>\n",
       "    </tr>\n",
       "    <tr>\n",
       "      <th>1</th>\n",
       "      <td>27.0</td>\n",
       "      <td>33.75</td>\n",
       "    </tr>\n",
       "    <tr>\n",
       "      <th>2</th>\n",
       "      <td>30.0</td>\n",
       "      <td>37.50</td>\n",
       "    </tr>\n",
       "    <tr>\n",
       "      <th>3</th>\n",
       "      <td>24.0</td>\n",
       "      <td>30.00</td>\n",
       "    </tr>\n",
       "    <tr>\n",
       "      <th>4</th>\n",
       "      <td>29.0</td>\n",
       "      <td>36.25</td>\n",
       "    </tr>\n",
       "  </tbody>\n",
       "</table>\n",
       "</div>"
      ],
      "text/plain": [
       "    NO2     ni\n",
       "0  26.0  32.50\n",
       "1  27.0  33.75\n",
       "2  30.0  37.50\n",
       "3  24.0  30.00\n",
       "4  29.0  36.25"
      ]
     },
     "execution_count": 9,
     "metadata": {},
     "output_type": "execute_result"
    }
   ],
   "source": [
    "#Function to calculate no2 individual pollutant index(ni)\n",
    "def calculate_ni(no2):\n",
    "    ni=0\n",
    "    if(no2<=40):\n",
    "        ni= no2*50/40\n",
    "    elif(no2>40 and no2<=80):\n",
    "         ni= 50+(no2-14)*(50/40)\n",
    "    elif(no2>80 and no2<=180):\n",
    "         ni= 100+(no2-80)*(100/100)\n",
    "    elif(no2>180 and no2<=280):\n",
    "         ni= 200+(no2-180)*(100/100)\n",
    "    elif(no2>280 and no2<=400):\n",
    "         ni= 300+(no2-280)*(100/120)\n",
    "    else:\n",
    "         ni= 400+(no2-400)*(100/120)\n",
    "    return ni\n",
    "dataset['ni']=dataset['NO2'].apply(calculate_ni)\n",
    "df= dataset[['NO2','ni']]\n",
    "df.head()"
   ]
  },
  {
   "cell_type": "code",
   "execution_count": 10,
   "metadata": {},
   "outputs": [
    {
     "data": {
      "text/html": [
       "<div>\n",
       "<style scoped>\n",
       "    .dataframe tbody tr th:only-of-type {\n",
       "        vertical-align: middle;\n",
       "    }\n",
       "\n",
       "    .dataframe tbody tr th {\n",
       "        vertical-align: top;\n",
       "    }\n",
       "\n",
       "    .dataframe thead th {\n",
       "        text-align: right;\n",
       "    }\n",
       "</style>\n",
       "<table border=\"1\" class=\"dataframe\">\n",
       "  <thead>\n",
       "    <tr style=\"text-align: right;\">\n",
       "      <th></th>\n",
       "      <th>PM10</th>\n",
       "      <th>rpi</th>\n",
       "    </tr>\n",
       "  </thead>\n",
       "  <tbody>\n",
       "    <tr>\n",
       "      <th>0</th>\n",
       "      <td>217</td>\n",
       "      <td>145.666667</td>\n",
       "    </tr>\n",
       "    <tr>\n",
       "      <th>1</th>\n",
       "      <td>136</td>\n",
       "      <td>118.666667</td>\n",
       "    </tr>\n",
       "    <tr>\n",
       "      <th>2</th>\n",
       "      <td>130</td>\n",
       "      <td>116.666667</td>\n",
       "    </tr>\n",
       "    <tr>\n",
       "      <th>3</th>\n",
       "      <td>78</td>\n",
       "      <td>97.500000</td>\n",
       "    </tr>\n",
       "    <tr>\n",
       "      <th>4</th>\n",
       "      <td>110</td>\n",
       "      <td>110.000000</td>\n",
       "    </tr>\n",
       "  </tbody>\n",
       "</table>\n",
       "</div>"
      ],
      "text/plain": [
       "   PM10         rpi\n",
       "0   217  145.666667\n",
       "1   136  118.666667\n",
       "2   130  116.666667\n",
       "3    78   97.500000\n",
       "4   110  110.000000"
      ]
     },
     "execution_count": 10,
     "metadata": {},
     "output_type": "execute_result"
    }
   ],
   "source": [
    "def calculate_(rspm):\n",
    "    rpi=0\n",
    "    if(rpi<=30):\n",
    "         rpi=rpi*50/30\n",
    "    elif(rpi>30 and rpi<=60):\n",
    "         rpi=50+(rpi-30)*50/30\n",
    "    elif(rpi>60 and rpi<=90):\n",
    "         rpi=100+(rpi-60)*100/30\n",
    "    elif(rpi>90 and rpi<=120):\n",
    "         rpi=200+(rpi-90)*100/30\n",
    "    elif(rpi>120 and rpi<=250):\n",
    "         rpi=300+(rpi-120)*(100/130)\n",
    "    else:\n",
    "         rpi=400+(rpi-250)*(100/130)\n",
    "    return rpi\n",
    "dataset['rpi']=dataset['PM10'].apply(calculate_si)\n",
    "df= dataset[['PM10','rpi']]\n",
    "df.head()"
   ]
  },
  {
   "cell_type": "markdown",
   "metadata": {},
   "source": [
    "### 2.1.2.Merging the calculated pollutant index of SO2, NO2, PM10"
   ]
  },
  {
   "cell_type": "code",
   "execution_count": 11,
   "metadata": {},
   "outputs": [
    {
     "data": {
      "text/html": [
       "<div>\n",
       "<style scoped>\n",
       "    .dataframe tbody tr th:only-of-type {\n",
       "        vertical-align: middle;\n",
       "    }\n",
       "\n",
       "    .dataframe tbody tr th {\n",
       "        vertical-align: top;\n",
       "    }\n",
       "\n",
       "    .dataframe thead th {\n",
       "        text-align: right;\n",
       "    }\n",
       "</style>\n",
       "<table border=\"1\" class=\"dataframe\">\n",
       "  <thead>\n",
       "    <tr style=\"text-align: right;\">\n",
       "      <th></th>\n",
       "      <th>Stn_code</th>\n",
       "      <th>Date</th>\n",
       "      <th>SO2</th>\n",
       "      <th>NO2</th>\n",
       "      <th>PM10</th>\n",
       "      <th>AQI</th>\n",
       "    </tr>\n",
       "  </thead>\n",
       "  <tbody>\n",
       "    <tr>\n",
       "      <th>0</th>\n",
       "      <td>95</td>\n",
       "      <td>1/3/2014</td>\n",
       "      <td>5.0</td>\n",
       "      <td>26.0</td>\n",
       "      <td>217</td>\n",
       "      <td>145.666667</td>\n",
       "    </tr>\n",
       "    <tr>\n",
       "      <th>1</th>\n",
       "      <td>95</td>\n",
       "      <td>1/6/2014</td>\n",
       "      <td>5.0</td>\n",
       "      <td>27.0</td>\n",
       "      <td>136</td>\n",
       "      <td>118.666667</td>\n",
       "    </tr>\n",
       "    <tr>\n",
       "      <th>2</th>\n",
       "      <td>95</td>\n",
       "      <td>1/9/2014</td>\n",
       "      <td>5.0</td>\n",
       "      <td>30.0</td>\n",
       "      <td>130</td>\n",
       "      <td>116.666667</td>\n",
       "    </tr>\n",
       "    <tr>\n",
       "      <th>3</th>\n",
       "      <td>95</td>\n",
       "      <td>1/12/2014</td>\n",
       "      <td>6.0</td>\n",
       "      <td>24.0</td>\n",
       "      <td>78</td>\n",
       "      <td>97.500000</td>\n",
       "    </tr>\n",
       "    <tr>\n",
       "      <th>4</th>\n",
       "      <td>95</td>\n",
       "      <td>1/16/2014</td>\n",
       "      <td>5.0</td>\n",
       "      <td>29.0</td>\n",
       "      <td>110</td>\n",
       "      <td>110.000000</td>\n",
       "    </tr>\n",
       "  </tbody>\n",
       "</table>\n",
       "</div>"
      ],
      "text/plain": [
       "   Stn_code       Date  SO2   NO2  PM10         AQI\n",
       "0        95   1/3/2014  5.0  26.0   217  145.666667\n",
       "1        95   1/6/2014  5.0  27.0   136  118.666667\n",
       "2        95   1/9/2014  5.0  30.0   130  116.666667\n",
       "3        95  1/12/2014  6.0  24.0    78   97.500000\n",
       "4        95  1/16/2014  5.0  29.0   110  110.000000"
      ]
     },
     "execution_count": 11,
     "metadata": {},
     "output_type": "execute_result"
    }
   ],
   "source": [
    "def calculate_aqi(si,ni,spi):\n",
    "    aqi=0\n",
    "    if(si>ni and si>spi):\n",
    "        aqi=si\n",
    "    if(spi>si and spi>ni):\n",
    "        aqi=spi\n",
    "    if(ni>si and ni>spi):\n",
    "        aqi=ni\n",
    "    return aqi\n",
    "dataset['AQI']=dataset.apply(lambda x:calculate_aqi(x['si'],x['ni'],x['rpi']),axis=1)\n",
    "df= dataset[['Stn_code','Date','SO2','NO2','PM10','AQI']]\n",
    "df.head()"
   ]
  },
  {
   "cell_type": "markdown",
   "metadata": {},
   "source": [
    "## 2.3Univariate analysis\n",
    "### 2.3.1 Data Cleaning"
   ]
  },
  {
   "cell_type": "code",
   "execution_count": 12,
   "metadata": {},
   "outputs": [
    {
     "data": {
      "image/png": "[encoded data removed]",
      "text/plain": [
       "<Figure size 432x288 with 1 Axes>"
      ]
     },
     "metadata": {},
     "output_type": "display_data"
    }
   ],
   "source": [
    "import seaborn as sns\n",
    "import matplotlib.pyplot as plt\n",
    "sns.boxplot(y='AQI', data=dataset)\n",
    "plt.show()"
   ]
  },
  {
   "cell_type": "code",
   "execution_count": 13,
   "metadata": {},
   "outputs": [
    {
     "name": "stdout",
     "output_type": "stream",
     "text": [
      "0 percentile value is 15.0\n",
      "10 percentile value is 55.0\n",
      "20 percentile value is 68.75\n",
      "30 percentile value is 78.75\n",
      "40 percentile value is 90.0\n",
      "50 percentile value is 100.33333333333333\n",
      "60 percentile value is 103.0\n",
      "70 percentile value is 105.66666666666667\n",
      "80 percentile value is 110.33333333333333\n",
      "90 percentile value is 119.0\n",
      "100 percentile value is  192.33333333333331\n"
     ]
    }
   ],
   "source": [
    "import numpy as np\n",
    "for i in range(0,100,10):\n",
    "    var =dataset[\"AQI\"].values\n",
    "    var = np.sort(var,axis = None)\n",
    "    print(\"{} percentile value is {}\".format(i,var[int(len(var)*(float(i)/100))]))\n",
    "print (\"100 percentile value is \",var[-1])"
   ]
  },
  {
   "cell_type": "code",
   "execution_count": 14,
   "metadata": {},
   "outputs": [
    {
     "name": "stdout",
     "output_type": "stream",
     "text": [
      "0.0 percentile value is 15.0\n",
      "0.1 percentile value is 16.25\n",
      "0.2 percentile value is 20.0\n",
      "0.30000000000000004 percentile value is 21.25\n",
      "0.4 percentile value is 22.5\n",
      "0.5 percentile value is 25.0\n",
      "0.6000000000000001 percentile value is 25.0\n",
      "0.7000000000000001 percentile value is 26.25\n",
      "0.8 percentile value is 26.25\n",
      "0.9 percentile value is 27.5\n",
      "100 percentile value is  192.33333333333331\n"
     ]
    }
   ],
   "source": [
    "#calculating speed values at each percntile 99.0,99.1,99.2,99.3,99.4,99.5,99.6,99.7,99.8,99.9,100\n",
    "for i in np.arange(0.0, 1.0, 0.1):\n",
    "    var =dataset[\"AQI\"].values\n",
    "    var = np.sort(var,axis = None)\n",
    "    print(\"{} percentile value is {}\".format(0+i,var[int(len(var)*(float(0+i)/100))]))\n",
    "print(\"100 percentile value is \",var[-1])"
   ]
  },
  {
   "cell_type": "code",
   "execution_count": 15,
   "metadata": {
    "scrolled": true
   },
   "outputs": [
    {
     "name": "stdout",
     "output_type": "stream",
     "text": [
      "90 percentile value is 119.0\n",
      "91 percentile value is 120.33333333333333\n",
      "92 percentile value is 122.0\n",
      "93 percentile value is 123.33333333333333\n",
      "94 percentile value is 124.66666666666666\n",
      "95 percentile value is 126.33333333333333\n",
      "96 percentile value is 128.5\n",
      "97 percentile value is 131.33333333333334\n",
      "98 percentile value is 135.33333333333331\n",
      "99 percentile value is 142.33333333333331\n",
      "100 percentile value is  192.33333333333331\n"
     ]
    }
   ],
   "source": [
    "import numpy as np\n",
    "for i in range(90,100):\n",
    "    var =dataset[\"AQI\"].values\n",
    "    var = np.sort(var,axis = None)\n",
    "    print(\"{} percentile value is {}\".format(i,var[int(len(var)*(float(i)/100))]))\n",
    "print (\"100 percentile value is \",var[-1])"
   ]
  },
  {
   "cell_type": "code",
   "execution_count": 16,
   "metadata": {},
   "outputs": [
    {
     "name": "stdout",
     "output_type": "stream",
     "text": [
      "99.0 percentile value is 142.33333333333331\n",
      "99.1 percentile value is 144.0\n",
      "99.2 percentile value is 145.33333333333331\n",
      "99.3 percentile value is 146.66666666666666\n",
      "99.4 percentile value is 148.33333333333331\n",
      "99.5 percentile value is 149.33333333333331\n",
      "99.6 percentile value is 154.0\n",
      "99.7 percentile value is 158.66666666666666\n",
      "99.8 percentile value is 168.66666666666666\n",
      "99.9 percentile value is 178.66666666666666\n",
      "100 percentile value is  192.33333333333331\n"
     ]
    }
   ],
   "source": [
    "#calculating speed values at each percntile 99.0,99.1,99.2,99.3,99.4,99.5,99.6,99.7,99.8,99.9,100\n",
    "for i in np.arange(0.0, 1.0, 0.1):\n",
    "    var =dataset[\"AQI\"].values\n",
    "    var = np.sort(var,axis = None)\n",
    "    print(\"{} percentile value is {}\".format(99+i,var[int(len(var)*(float(99+i)/100))]))\n",
    "print(\"100 percentile value is \",var[-1])"
   ]
  },
  {
   "cell_type": "markdown",
   "metadata": {},
   "source": [
    "* There are no much outliers in the data set."
   ]
  },
  {
   "cell_type": "code",
   "execution_count": 17,
   "metadata": {},
   "outputs": [],
   "source": [
    "dataset_modified=dataset[(dataset.AQI>100) & (dataset.AQI<193)]"
   ]
  },
  {
   "cell_type": "code",
   "execution_count": 18,
   "metadata": {},
   "outputs": [
    {
     "data": {
      "image/png": "[encoded data removed]",
      "text/plain": [
       "<Figure size 485.5x432 with 1 Axes>"
      ]
     },
     "metadata": {},
     "output_type": "display_data"
    }
   ],
   "source": [
    "sns.FacetGrid(dataset_modified,size=6) \\\n",
    "      .map(sns.kdeplot,\"AQI\") \\\n",
    "      .add_legend();\n",
    "plt.show();"
   ]
  },
  {
   "cell_type": "code",
   "execution_count": 19,
   "metadata": {},
   "outputs": [
    {
     "name": "stdout",
     "output_type": "stream",
     "text": [
      "50.37707390648567\n"
     ]
    }
   ],
   "source": [
    "print((dataset_modified.shape[0]/dataset.shape[0])*100)"
   ]
  },
  {
   "cell_type": "markdown",
   "metadata": {},
   "source": [
    "* After removing the outliers we have 50.3% of data preserved"
   ]
  },
  {
   "cell_type": "markdown",
   "metadata": {},
   "source": [
    "## 3.Observing the trend"
   ]
  },
  {
   "cell_type": "markdown",
   "metadata": {},
   "source": [
    "* After seperating Date and Air quality from the dataset."
   ]
  },
  {
   "cell_type": "code",
   "execution_count": 20,
   "metadata": {},
   "outputs": [
    {
     "data": {
      "text/html": [
       "<div>\n",
       "<style scoped>\n",
       "    .dataframe tbody tr th:only-of-type {\n",
       "        vertical-align: middle;\n",
       "    }\n",
       "\n",
       "    .dataframe tbody tr th {\n",
       "        vertical-align: top;\n",
       "    }\n",
       "\n",
       "    .dataframe thead th {\n",
       "        text-align: right;\n",
       "    }\n",
       "</style>\n",
       "<table border=\"1\" class=\"dataframe\">\n",
       "  <thead>\n",
       "    <tr style=\"text-align: right;\">\n",
       "      <th></th>\n",
       "      <th>AQI</th>\n",
       "      <th>Date</th>\n",
       "    </tr>\n",
       "  </thead>\n",
       "  <tbody>\n",
       "    <tr>\n",
       "      <th>0</th>\n",
       "      <td>145.666667</td>\n",
       "      <td>2014-01-03</td>\n",
       "    </tr>\n",
       "    <tr>\n",
       "      <th>1</th>\n",
       "      <td>118.666667</td>\n",
       "      <td>2014-01-06</td>\n",
       "    </tr>\n",
       "    <tr>\n",
       "      <th>2</th>\n",
       "      <td>116.666667</td>\n",
       "      <td>2014-01-09</td>\n",
       "    </tr>\n",
       "    <tr>\n",
       "      <th>4</th>\n",
       "      <td>110.000000</td>\n",
       "      <td>2014-01-16</td>\n",
       "    </tr>\n",
       "    <tr>\n",
       "      <th>6</th>\n",
       "      <td>124.666667</td>\n",
       "      <td>2014-01-21</td>\n",
       "    </tr>\n",
       "  </tbody>\n",
       "</table>\n",
       "</div>"
      ],
      "text/plain": [
       "          AQI       Date\n",
       "0  145.666667 2014-01-03\n",
       "1  118.666667 2014-01-06\n",
       "2  116.666667 2014-01-09\n",
       "4  110.000000 2014-01-16\n",
       "6  124.666667 2014-01-21"
      ]
     },
     "execution_count": 20,
     "metadata": {},
     "output_type": "execute_result"
    }
   ],
   "source": [
    "import pandas as pd\n",
    "df=dataset_modified[['AQI','Date']]\n",
    "df[\"Date\"] = pd.to_datetime(df['Date'])\n",
    "df.head()"
   ]
  },
  {
   "cell_type": "code",
   "execution_count": 21,
   "metadata": {},
   "outputs": [
    {
     "data": {
      "text/plain": [
       "(2004, 2)"
      ]
     },
     "execution_count": 21,
     "metadata": {},
     "output_type": "execute_result"
    }
   ],
   "source": [
    "df.shape"
   ]
  },
  {
   "cell_type": "markdown",
   "metadata": {},
   "source": [
    "* As we observe there is no regular interval between the data.Let's make a easy way for analysis of data.\n",
    "* So, We take the average of monthly wise data to have regular intervals(month-wise)."
   ]
  },
  {
   "cell_type": "code",
   "execution_count": 22,
   "metadata": {},
   "outputs": [
    {
     "data": {
      "text/plain": [
       "Date\n",
       "2014-01-31    112.618168\n",
       "2014-02-28    116.115550\n",
       "2014-03-31    110.199914\n",
       "2014-04-30    112.884587\n",
       "2014-05-31    112.169417\n",
       "Freq: M, Name: AQI, dtype: float64"
      ]
     },
     "execution_count": 22,
     "metadata": {},
     "output_type": "execute_result"
    }
   ],
   "source": [
    "df=df.set_index('Date').resample('M')[\"AQI\"].mean()\n",
    "df.head()"
   ]
  },
  {
   "cell_type": "code",
   "execution_count": 23,
   "metadata": {},
   "outputs": [
    {
     "data": {
      "text/plain": [
       "(24,)"
      ]
     },
     "execution_count": 23,
     "metadata": {},
     "output_type": "execute_result"
    }
   ],
   "source": [
    "df.shape"
   ]
  },
  {
   "cell_type": "markdown",
   "metadata": {},
   "source": [
    "* As the dataset consists of two years(24 months) of data so we got 24 observations after performing average operations."
   ]
  },
  {
   "cell_type": "code",
   "execution_count": 24,
   "metadata": {},
   "outputs": [
    {
     "data": {
      "text/html": [
       "<div>\n",
       "<style scoped>\n",
       "    .dataframe tbody tr th:only-of-type {\n",
       "        vertical-align: middle;\n",
       "    }\n",
       "\n",
       "    .dataframe tbody tr th {\n",
       "        vertical-align: top;\n",
       "    }\n",
       "\n",
       "    .dataframe thead th {\n",
       "        text-align: right;\n",
       "    }\n",
       "</style>\n",
       "<table border=\"1\" class=\"dataframe\">\n",
       "  <thead>\n",
       "    <tr style=\"text-align: right;\">\n",
       "      <th></th>\n",
       "      <th>Date</th>\n",
       "      <th>AQI</th>\n",
       "    </tr>\n",
       "  </thead>\n",
       "  <tbody>\n",
       "    <tr>\n",
       "      <th>0</th>\n",
       "      <td>2014-01-31</td>\n",
       "      <td>112.618168</td>\n",
       "    </tr>\n",
       "    <tr>\n",
       "      <th>1</th>\n",
       "      <td>2014-02-28</td>\n",
       "      <td>116.115550</td>\n",
       "    </tr>\n",
       "    <tr>\n",
       "      <th>2</th>\n",
       "      <td>2014-03-31</td>\n",
       "      <td>110.199914</td>\n",
       "    </tr>\n",
       "    <tr>\n",
       "      <th>3</th>\n",
       "      <td>2014-04-30</td>\n",
       "      <td>112.884587</td>\n",
       "    </tr>\n",
       "    <tr>\n",
       "      <th>4</th>\n",
       "      <td>2014-05-31</td>\n",
       "      <td>112.169417</td>\n",
       "    </tr>\n",
       "  </tbody>\n",
       "</table>\n",
       "</div>"
      ],
      "text/plain": [
       "        Date         AQI\n",
       "0 2014-01-31  112.618168\n",
       "1 2014-02-28  116.115550\n",
       "2 2014-03-31  110.199914\n",
       "3 2014-04-30  112.884587\n",
       "4 2014-05-31  112.169417"
      ]
     },
     "execution_count": 24,
     "metadata": {},
     "output_type": "execute_result"
    }
   ],
   "source": [
    "# Arranging the Date format\n",
    "data=df.reset_index(level=0, inplace=False)\n",
    "data = data[np.isfinite(data['AQI'])]\n",
    "data=data[data.Date != '1970-01-31']\n",
    "data = data.reset_index(drop=True)\n",
    "data.head()"
   ]
  },
  {
   "cell_type": "code",
   "execution_count": 25,
   "metadata": {},
   "outputs": [
    {
     "data": {
      "image/png": "[encoded data removed]",
      "text/plain": [
       "<Figure size 432x288 with 4 Axes>"
      ]
     },
     "metadata": {},
     "output_type": "display_data"
    }
   ],
   "source": [
    "from statsmodels.tsa.seasonal import seasonal_decompose\n",
    "series = data.AQI\n",
    "result = seasonal_decompose(series, model='additive', freq=1)\n",
    "result.plot()\n",
    "pyplot.show()"
   ]
  },
  {
   "cell_type": "markdown",
   "metadata": {},
   "source": [
    "## 3.1.Observations:\n",
    "* From the Trend curve we can see that the curve is in the form of sin(x) Curve there are up's and down's at regular intervals.\n",
    "* And we can also observe that there is no Seasonality in the data."
   ]
  },
  {
   "cell_type": "markdown",
   "metadata": {},
   "source": [
    "## 4. Train Test Split\n",
    "* As it is Time series data we cannot split the data randomly we need to split according to time.\n",
    "* Train data contain 70% of Data and Test contain 30% of data."
   ]
  },
  {
   "cell_type": "code",
   "execution_count": 26,
   "metadata": {},
   "outputs": [],
   "source": [
    "n = df.shape[0]\n",
    "train_size = 0.70\n",
    "\n",
    "features_dataframe = data.sort_values('Date')\n",
    "train = data.iloc[:int(n * train_size)]\n",
    "test = data.iloc[int(n * train_size):]"
   ]
  },
  {
   "cell_type": "code",
   "execution_count": 27,
   "metadata": {},
   "outputs": [
    {
     "data": {
      "image/png": "[encoded data removed]",
      "text/plain": [
       "<Figure size 1080x576 with 1 Axes>"
      ]
     },
     "metadata": {},
     "output_type": "display_data"
    }
   ],
   "source": [
    "train.AQI.plot(figsize=(15,8), title= 'MONTHLY VARIATIONS', fontsize=14)\n",
    "test.AQI.plot(figsize=(15,8), title= 'MONTHLY VARIATIONS', fontsize=14)\n",
    "plt.xlabel(\"Months\")\n",
    "plt.ylabel(\"AQI\")\n",
    "plt.show()"
   ]
  },
  {
   "cell_type": "markdown",
   "metadata": {},
   "source": [
    "# Machine learning models\n",
    "### 1.Naive Approch(Base Line model)"
   ]
  },
  {
   "cell_type": "code",
   "execution_count": 28,
   "metadata": {},
   "outputs": [
    {
     "data": {
      "image/png": "[encoded data removed]",
      "text/plain": [
       "<Figure size 864x576 with 1 Axes>"
      ]
     },
     "metadata": {},
     "output_type": "display_data"
    }
   ],
   "source": [
    "dd= np.asarray(train.AQI)\n",
    "y_hat = test.copy()\n",
    "y_hat['naive'] = dd[len(dd)-1]\n",
    "plt.figure(figsize=(12,8))\n",
    "plt.plot(train.index, train['AQI'], label='Train')\n",
    "plt.plot(test.index,test['AQI'], label='Test')\n",
    "plt.plot(y_hat.index,y_hat['naive'], label='Naive Forecast')\n",
    "plt.legend(loc='best')\n",
    "plt.title(\"Naive Forecast\")\n",
    "plt.show()"
   ]
  },
  {
   "cell_type": "code",
   "execution_count": 29,
   "metadata": {},
   "outputs": [
    {
     "name": "stdout",
     "output_type": "stream",
     "text": [
      "Mean_absolute_error: 3.5660317028976483\n"
     ]
    }
   ],
   "source": [
    "from sklearn.metrics import mean_absolute_error\n",
    "mae=mean_absolute_error(test.AQI,  y_hat.naive)\n",
    "print(\"Mean_absolute_error:\",mae)"
   ]
  },
  {
   "cell_type": "code",
   "execution_count": 32,
   "metadata": {},
   "outputs": [
    {
     "name": "stdout",
     "output_type": "stream",
     "text": [
      "+---------------------+--------------------+--------------------+\n",
      "|         Date        |       Actual       |     Predicted      |\n",
      "+---------------------+--------------------+--------------------+\n",
      "| 2015-07-31 00:00:00 | 108.66666666666666 | 107.14166666666668 |\n",
      "| 2015-08-31 00:00:00 | 107.97348484848486 | 107.14166666666668 |\n",
      "| 2015-09-30 00:00:00 | 110.51999999999998 | 107.14166666666668 |\n",
      "| 2015-10-31 00:00:00 | 113.94157088122603 | 107.14166666666668 |\n",
      "| 2015-11-30 00:00:00 | 115.28183520599252 | 107.14166666666668 |\n",
      "| 2015-12-31 00:00:00 | 111.27491408934704 | 107.14166666666668 |\n",
      "+---------------------+--------------------+--------------------+\n"
     ]
    }
   ],
   "source": [
    "from prettytable import PrettyTable\n",
    "    \n",
    "x = PrettyTable()\n",
    "\n",
    "x.field_names = [\"Date\",\"Actual\", \"Predicted\"]\n",
    "\n",
    "x.add_row([data['Date'].loc[18],data['AQI'].loc[18],y_hat.naive[16]])\n",
    "x.add_row([data['Date'].loc[19],data['AQI'].loc[19],y_hat.naive[17]])\n",
    "x.add_row([data['Date'].loc[20],data['AQI'].loc[20],y_hat.naive[18]])\n",
    "x.add_row([data['Date'].loc[21],data['AQI'].loc[21],y_hat.naive[19]])\n",
    "x.add_row([data['Date'].loc[22],data['AQI'].loc[22],y_hat.naive[20]])\n",
    "x.add_row([data['Date'].loc[23],data['AQI'].loc[23],y_hat.naive[21]])\n",
    "\n",
    "print(x)"
   ]
  },
  {
   "cell_type": "markdown",
   "metadata": {},
   "source": [
    "### 2. Simple Moving Average"
   ]
  },
  {
   "cell_type": "code",
   "execution_count": 41,
   "metadata": {},
   "outputs": [
    {
     "data": {
      "image/png": "[encoded data removed]",
      "text/plain": [
       "<Figure size 1152x576 with 1 Axes>"
      ]
     },
     "metadata": {},
     "output_type": "display_data"
    }
   ],
   "source": [
    "y_hat_avg = test.copy()\n",
    "y_hat_avg['moving_avg_forecast'] = train['AQI'].rolling(2).mean().iloc[-1]\n",
    "plt.figure(figsize=(16,8))\n",
    "plt.plot(train['AQI'], label='Train')\n",
    "plt.plot(test['AQI'], label='Test')\n",
    "plt.plot(y_hat_avg['moving_avg_forecast'], label='Moving Average Forecast')\n",
    "plt.legend(loc='best')\n",
    "plt.show()"
   ]
  },
  {
   "cell_type": "code",
   "execution_count": 42,
   "metadata": {},
   "outputs": [
    {
     "name": "stdout",
     "output_type": "stream",
     "text": [
      "Mean_absolute_percentage_error: 2.1461802276185526\n"
     ]
    }
   ],
   "source": [
    "mae=mean_absolute_error(test.AQI, y_hat_avg.moving_avg_forecast)\n",
    "print(\"Mean_absolute_percentage_error:\",mae)"
   ]
  },
  {
   "cell_type": "markdown",
   "metadata": {},
   "source": [
    "## 3.LSTM\n",
    "### 3.1 Day wise"
   ]
  },
  {
   "cell_type": "markdown",
   "metadata": {},
   "source": [
    "<img src=\"LSTM.png\" alt=\"Data Overview\">"
   ]
  },
  {
   "cell_type": "markdown",
   "metadata": {},
   "source": [
    "reference:<br>\n",
    "1.https://machinelearningmastery.com/time-series-prediction-lstm-recurrent-neural-networks-python-keras/ <br>\n",
    "2.https://machinelearningmastery.com/convert-time-series-supervised-learning-problem-python/"
   ]
  },
  {
   "cell_type": "code",
   "execution_count": 62,
   "metadata": {},
   "outputs": [],
   "source": [
    "df=dataset_modified[['AQI']]"
   ]
  },
  {
   "cell_type": "code",
   "execution_count": 63,
   "metadata": {},
   "outputs": [],
   "source": [
    "import numpy\n",
    "import matplotlib.pyplot as plt\n",
    "import pandas\n",
    "import math\n",
    "from keras.models import Sequential\n",
    "from keras.layers import Dense\n",
    "from keras.layers import LSTM\n",
    "from sklearn.preprocessing import MinMaxScaler\n",
    "from sklearn.metrics import mean_squared_error"
   ]
  },
  {
   "cell_type": "code",
   "execution_count": 64,
   "metadata": {},
   "outputs": [],
   "source": [
    "numpy.random.seed(7)"
   ]
  },
  {
   "cell_type": "code",
   "execution_count": 65,
   "metadata": {},
   "outputs": [],
   "source": [
    "dataframe = df\n",
    "dataset = dataframe.values\n",
    "dataset = dataset.astype('float32')"
   ]
  },
  {
   "cell_type": "code",
   "execution_count": 66,
   "metadata": {},
   "outputs": [],
   "source": [
    "scaler = MinMaxScaler(feature_range=(0, 1))\n",
    "dataset = scaler.fit_transform(dataset)"
   ]
  },
  {
   "cell_type": "code",
   "execution_count": 67,
   "metadata": {},
   "outputs": [
    {
     "name": "stdout",
     "output_type": "stream",
     "text": [
      "1603 401\n"
     ]
    }
   ],
   "source": [
    "# split into train and test sets\n",
    "train_size = int(len(dataset) * 0.80)\n",
    "test_size = len(dataset) - train_size\n",
    "train, test = dataset[0:train_size,:], dataset[train_size:len(dataset),:]\n",
    "print(len(train), len(test))"
   ]
  },
  {
   "cell_type": "code",
   "execution_count": 68,
   "metadata": {},
   "outputs": [],
   "source": [
    "# convert an array of values into a dataset matrix\n",
    "def create_dataset(dataset, look_back=1):\n",
    "\tdataX, dataY = [], []\n",
    "\tfor i in range(len(dataset)-look_back-1):\n",
    "\t\ta = dataset[i:(i+look_back), 0]\n",
    "\t\tdataX.append(a)\n",
    "\t\tdataY.append(dataset[i + look_back, 0])\n",
    "\treturn numpy.array(dataX), numpy.array(dataY)"
   ]
  },
  {
   "cell_type": "code",
   "execution_count": 69,
   "metadata": {},
   "outputs": [],
   "source": [
    "# reshape into X=t and Y=t+1\n",
    "look_back = 1\n",
    "trainX, trainY = create_dataset(train, look_back)\n",
    "testX, testY = create_dataset(test, look_back)"
   ]
  },
  {
   "cell_type": "code",
   "execution_count": 70,
   "metadata": {},
   "outputs": [],
   "source": [
    "# reshape input to be [samples, time steps, features]\n",
    "trainX = numpy.reshape(trainX, (trainX.shape[0], 1, trainX.shape[1]))\n",
    "testX = numpy.reshape(testX, (testX.shape[0], 1, testX.shape[1]))"
   ]
  },
  {
   "cell_type": "markdown",
   "metadata": {},
   "source": [
    "https://towardsdatascience.com/types-of-optimization-algorithms-used-in-neural-networks-and-ways-to-optimize-gradient-95ae5d39529f"
   ]
  },
  {
   "cell_type": "code",
   "execution_count": 41,
   "metadata": {},
   "outputs": [
    {
     "name": "stdout",
     "output_type": "stream",
     "text": [
      "Epoch 1/20\n",
      " - 6s - loss: 0.0143\n",
      "Epoch 2/20\n",
      " - 3s - loss: 0.0131\n",
      "Epoch 3/20\n",
      " - 3s - loss: 0.0130\n",
      "Epoch 4/20\n",
      " - 3s - loss: 0.0130\n",
      "Epoch 5/20\n",
      " - 3s - loss: 0.0130\n",
      "Epoch 6/20\n",
      " - 3s - loss: 0.0129\n",
      "Epoch 7/20\n",
      " - 3s - loss: 0.0129\n",
      "Epoch 8/20\n",
      " - 3s - loss: 0.0129\n",
      "Epoch 9/20\n",
      " - 3s - loss: 0.0129\n",
      "Epoch 10/20\n",
      " - 3s - loss: 0.0129\n",
      "Epoch 11/20\n",
      " - 3s - loss: 0.0129\n",
      "Epoch 12/20\n",
      " - 3s - loss: 0.0128\n",
      "Epoch 13/20\n",
      " - 3s - loss: 0.0129\n",
      "Epoch 14/20\n",
      " - 3s - loss: 0.0129\n",
      "Epoch 15/20\n",
      " - 3s - loss: 0.0128\n",
      "Epoch 16/20\n",
      " - 3s - loss: 0.0128\n",
      "Epoch 17/20\n",
      " - 3s - loss: 0.0128\n",
      "Epoch 18/20\n",
      " - 3s - loss: 0.0128\n",
      "Epoch 19/20\n",
      " - 3s - loss: 0.0128\n",
      "Epoch 20/20\n",
      " - 3s - loss: 0.0128\n"
     ]
    }
   ],
   "source": [
    "# create and fit the LSTM network\n",
    "model = Sequential()\n",
    "model.add(LSTM(4, input_shape=(1, look_back)))\n",
    "model.add(Dense(1))\n",
    "model.compile(loss='mean_squared_error', optimizer='adam')\n",
    "history=model.fit(trainX, trainY, epochs=20, batch_size=1, verbose=2)"
   ]
  },
  {
   "cell_type": "code",
   "execution_count": 42,
   "metadata": {},
   "outputs": [
    {
     "name": "stdout",
     "output_type": "stream",
     "text": [
      "Train Score: 2.74 MAE\n",
      "Test Score: 2.52 MAE\n"
     ]
    }
   ],
   "source": [
    "# make predictions\n",
    "trainPredict = model.predict(trainX)\n",
    "testPredict = model.predict(testX)\n",
    "# invert predictions\n",
    "trainPredict = scaler.inverse_transform(trainPredict)\n",
    "trainY = scaler.inverse_transform([trainY])\n",
    "testPredict = scaler.inverse_transform(testPredict)\n",
    "testY = scaler.inverse_transform([testY])\n",
    "# calculate mean Absolute error\n",
    "trainScore1 = math.sqrt(mean_absolute_error(trainY[0], trainPredict[:,0]))\n",
    "print('Train Score: %.2f MAE'%(trainScore1))\n",
    "testScore = math.sqrt(mean_absolute_error(testY[0], testPredict[:,0]))\n",
    "print('Test Score: %.2f MAE' % (testScore))"
   ]
  },
  {
   "cell_type": "code",
   "execution_count": 43,
   "metadata": {},
   "outputs": [
    {
     "data": {
      "image/png": "[encoded data removed]",
      "text/plain": [
       "<Figure size 432x288 with 1 Axes>"
      ]
     },
     "metadata": {},
     "output_type": "display_data"
    }
   ],
   "source": [
    "# shift train predictions for plotting\n",
    "trainPredictPlot = numpy.empty_like(dataset)\n",
    "trainPredictPlot[:, :] = numpy.nan\n",
    "trainPredictPlot[look_back:len(trainPredict)+look_back, :] = trainPredict\n",
    "# shift test predictions for plotting\n",
    "testPredictPlot = numpy.empty_like(dataset)\n",
    "testPredictPlot[:, :] = numpy.nan\n",
    "testPredictPlot[len(trainPredict)+(look_back*2)+1:len(dataset)-1, :] = testPredict\n",
    "# plot baseline and predictions\n",
    "#plt.plot(scaler.inverse_transform(dataset))\n",
    "plt.plot(trainPredictPlot)\n",
    "plt.plot(testPredictPlot)\n",
    "plt.show()"
   ]
  },
  {
   "cell_type": "markdown",
   "metadata": {},
   "source": [
    "### 7.2 Monthly wise with LSTM"
   ]
  },
  {
   "cell_type": "code",
   "execution_count": 75,
   "metadata": {},
   "outputs": [],
   "source": [
    "df=data[['AQI']]"
   ]
  },
  {
   "cell_type": "code",
   "execution_count": 76,
   "metadata": {},
   "outputs": [],
   "source": [
    "dataframe = df\n",
    "dataset = dataframe.values\n",
    "dataset = dataset.astype('float32')"
   ]
  },
  {
   "cell_type": "code",
   "execution_count": 77,
   "metadata": {},
   "outputs": [],
   "source": [
    "scaler = MinMaxScaler(feature_range=(0, 1))\n",
    "dataset = scaler.fit_transform(dataset)"
   ]
  },
  {
   "cell_type": "code",
   "execution_count": 78,
   "metadata": {},
   "outputs": [
    {
     "name": "stdout",
     "output_type": "stream",
     "text": [
      "16 8\n"
     ]
    }
   ],
   "source": [
    "# split into train and test sets\n",
    "train_size = int(len(dataset) * 0.70)\n",
    "test_size = len(dataset) - train_size\n",
    "train, test = dataset[0:train_size,:], dataset[train_size:len(dataset),:]\n",
    "print(len(train), len(test))"
   ]
  },
  {
   "cell_type": "code",
   "execution_count": 79,
   "metadata": {},
   "outputs": [],
   "source": [
    "# convert an array of values into a dataset matrix\n",
    "def create_dataset(dataset, look_back=1):\n",
    "\tdataX, dataY = [], []\n",
    "\tfor i in range(len(dataset)-look_back-1):\n",
    "\t\ta = dataset[i:(i+look_back), 0]\n",
    "\t\tdataX.append(a)\n",
    "\t\tdataY.append(dataset[i + look_back, 0])\n",
    "\treturn numpy.array(dataX), numpy.array(dataY)"
   ]
  },
  {
   "cell_type": "code",
   "execution_count": 80,
   "metadata": {},
   "outputs": [],
   "source": [
    "# reshape into X=t and Y=t+1\n",
    "look_back = 1\n",
    "trainX, trainY = create_dataset(train, look_back)\n",
    "testX, testY = create_dataset(test, look_back)"
   ]
  },
  {
   "cell_type": "code",
   "execution_count": 81,
   "metadata": {},
   "outputs": [],
   "source": [
    "# reshape input to be [samples, time steps, features]\n",
    "trainX = numpy.reshape(trainX, (trainX.shape[0], 1, trainX.shape[1]))\n",
    "testX = numpy.reshape(testX, (testX.shape[0], 1, testX.shape[1]))"
   ]
  },
  {
   "cell_type": "code",
   "execution_count": 82,
   "metadata": {},
   "outputs": [
    {
     "name": "stdout",
     "output_type": "stream",
     "text": [
      "Train on 14 samples, validate on 6 samples\n",
      "Epoch 1/30\n",
      " - 4s - loss: 0.2047 - val_loss: 0.1707\n",
      "Epoch 2/30\n",
      " - 0s - loss: 0.1900 - val_loss: 0.1578\n",
      "Epoch 3/30\n",
      " - 0s - loss: 0.1771 - val_loss: 0.1455\n",
      "Epoch 4/30\n",
      " - 0s - loss: 0.1634 - val_loss: 0.1349\n",
      "Epoch 5/30\n",
      " - 0s - loss: 0.1522 - val_loss: 0.1248\n",
      "Epoch 6/30\n",
      " - 0s - loss: 0.1411 - val_loss: 0.1156\n",
      "Epoch 7/30\n",
      " - 0s - loss: 0.1319 - val_loss: 0.1061\n",
      "Epoch 8/30\n",
      " - 0s - loss: 0.1222 - val_loss: 0.0982\n",
      "Epoch 9/30\n",
      " - 0s - loss: 0.1147 - val_loss: 0.0901\n",
      "Epoch 10/30\n",
      " - 0s - loss: 0.1066 - val_loss: 0.0836\n",
      "Epoch 11/30\n",
      " - 0s - loss: 0.0999 - val_loss: 0.0780\n",
      "Epoch 12/30\n",
      " - 0s - loss: 0.0943 - val_loss: 0.0724\n",
      "Epoch 13/30\n",
      " - 0s - loss: 0.0888 - val_loss: 0.0678\n",
      "Epoch 14/30\n",
      " - 0s - loss: 0.0845 - val_loss: 0.0633\n",
      "Epoch 15/30\n",
      " - 0s - loss: 0.0803 - val_loss: 0.0594\n",
      "Epoch 16/30\n",
      " - 0s - loss: 0.0778 - val_loss: 0.0556\n",
      "Epoch 17/30\n",
      " - 0s - loss: 0.0737 - val_loss: 0.0532\n",
      "Epoch 18/30\n",
      " - 0s - loss: 0.0716 - val_loss: 0.0508\n",
      "Epoch 19/30\n",
      " - 0s - loss: 0.0693 - val_loss: 0.0489\n",
      "Epoch 20/30\n",
      " - 0s - loss: 0.0678 - val_loss: 0.0471\n",
      "Epoch 21/30\n",
      " - 0s - loss: 0.0664 - val_loss: 0.0456\n",
      "Epoch 22/30\n",
      " - 0s - loss: 0.0650 - val_loss: 0.0447\n",
      "Epoch 23/30\n",
      " - 0s - loss: 0.0646 - val_loss: 0.0434\n",
      "Epoch 24/30\n",
      " - 0s - loss: 0.0635 - val_loss: 0.0432\n",
      "Epoch 25/30\n",
      " - 0s - loss: 0.0630 - val_loss: 0.0422\n",
      "Epoch 26/30\n",
      " - 0s - loss: 0.0625 - val_loss: 0.0415\n",
      "Epoch 27/30\n",
      " - 0s - loss: 0.0619 - val_loss: 0.0410\n",
      "Epoch 28/30\n",
      " - 0s - loss: 0.0616 - val_loss: 0.0406\n",
      "Epoch 29/30\n",
      " - 0s - loss: 0.0613 - val_loss: 0.0403\n",
      "Epoch 30/30\n",
      " - 0s - loss: 0.0613 - val_loss: 0.0400\n"
     ]
    }
   ],
   "source": [
    "# create and fit the LSTM network\n",
    "model = Sequential()\n",
    "model.add(LSTM(4, input_shape=(1, look_back)))\n",
    "model.add(Dense(1))\n",
    "model.compile(loss='mean_squared_error', optimizer='adam')\n",
    "history=model.fit(trainX, trainY, epochs=30, batch_size=1, verbose=2,validation_data=(testX, testY))"
   ]
  },
  {
   "cell_type": "code",
   "execution_count": 83,
   "metadata": {},
   "outputs": [
    {
     "data": {
      "image/png": "[encoded data removed]",
      "text/plain": [
       "<Figure size 432x288 with 1 Axes>"
      ]
     },
     "metadata": {},
     "output_type": "display_data"
    }
   ],
   "source": [
    "plt.plot(history.history['loss'])\n",
    "plt.plot(history.history['val_loss'])\n",
    "plt.title('model loss')\n",
    "plt.ylabel('loss')\n",
    "plt.xlabel('epoch')\n",
    "plt.legend(['train', 'validation'], loc='upper left')\n",
    "plt.show()"
   ]
  },
  {
   "cell_type": "code",
   "execution_count": 53,
   "metadata": {},
   "outputs": [
    {
     "name": "stdout",
     "output_type": "stream",
     "text": [
      "Train Score: 1.54 MAE\n",
      "Test Score: 1.50 MAE\n"
     ]
    }
   ],
   "source": [
    "# make predictions\n",
    "trainPredict = model.predict(trainX)\n",
    "testPredict = model.predict(testX)\n",
    "# invert predictions\n",
    "trainPredict = scaler.inverse_transform(trainPredict)\n",
    "trainY = scaler.inverse_transform([trainY])\n",
    "testPredict = scaler.inverse_transform(testPredict)\n",
    "testY = scaler.inverse_transform([testY])\n",
    "# calculate mean absolute error\n",
    "trainScore1 = math.sqrt(mean_absolute_error(trainY[0], trainPredict[:,0]))\n",
    "print('Train Score: %.2f MAE'%(trainScore1))\n",
    "testScore = math.sqrt(mean_absolute_error(testY[0], testPredict[:,0]))\n",
    "print('Test Score: %.2f MAE' % (testScore))"
   ]
  },
  {
   "cell_type": "code",
   "execution_count": 54,
   "metadata": {},
   "outputs": [
    {
     "data": {
      "image/png": "[encoded data removed]",
      "text/plain": [
       "<Figure size 432x288 with 1 Axes>"
      ]
     },
     "metadata": {},
     "output_type": "display_data"
    }
   ],
   "source": [
    "# shift train predictions for plotting\n",
    "trainPredictPlot = numpy.empty_like(dataset)\n",
    "trainPredictPlot[:, :] = numpy.nan\n",
    "trainPredictPlot[look_back:len(trainPredict)+look_back, :] = trainPredict\n",
    "# shift test predictions for plotting\n",
    "testPredictPlot = numpy.empty_like(dataset)\n",
    "testPredictPlot[:, :] = numpy.nan\n",
    "testPredictPlot[len(trainPredict)+(look_back*2)+1:len(dataset)-1, :] = testPredict\n",
    "# plot baseline and predictions\n",
    "plt.plot(scaler.inverse_transform(dataset))\n",
    "plt.plot(trainPredictPlot)\n",
    "plt.plot(testPredictPlot)\n",
    "plt.show()"
   ]
  },
  {
   "cell_type": "code",
   "execution_count": 56,
   "metadata": {},
   "outputs": [
    {
     "name": "stdout",
     "output_type": "stream",
     "text": [
      "+---------------------+--------------------+--------------+\n",
      "|         Date        |       Actual       |  Predicted   |\n",
      "+---------------------+--------------------+--------------+\n",
      "| 2015-07-31 00:00:00 | 108.66666666666666 | [110.66127]  |\n",
      "| 2015-08-31 00:00:00 | 107.97348484848486 | [110.535805] |\n",
      "| 2015-09-30 00:00:00 | 110.51999999999998 | [110.535805] |\n",
      "| 2015-10-31 00:00:00 | 113.94157088122603 | [110.403244] |\n",
      "| 2015-11-30 00:00:00 | 115.28183520599252 | [110.876236] |\n",
      "| 2015-12-31 00:00:00 | 111.27491408934704 | [111.44397]  |\n",
      "+---------------------+--------------------+--------------+\n"
     ]
    }
   ],
   "source": [
    "from prettytable import PrettyTable\n",
    "    \n",
    "x = PrettyTable()\n",
    "\n",
    "x.field_names = [\"Date\",\"Actual\", \"Predicted\"]\n",
    "\n",
    "x.add_row([data['Date'].loc[18],data['AQI'].loc[18],testPredict[0]])\n",
    "x.add_row([data['Date'].loc[19],data['AQI'].loc[19],testPredict[1]])\n",
    "x.add_row([data['Date'].loc[20],data['AQI'].loc[20],testPredict[2]])\n",
    "x.add_row([data['Date'].loc[21],data['AQI'].loc[21],testPredict[3]])\n",
    "x.add_row([data['Date'].loc[22],data['AQI'].loc[22],testPredict[4]])\n",
    "x.add_row([data['Date'].loc[23],data['AQI'].loc[23],testPredict[5]])\n",
    "\n",
    "print(x)"
   ]
  }
 ],
 "metadata": {
  "kernelspec": {
   "display_name": "Python 3",
   "language": "python",
   "name": "python3"
  },
  "language_info": {
   "codemirror_mode": {
    "name": "ipython",
    "version": 3
   },
   "file_extension": ".py",
   "mimetype": "text/x-python",
   "name": "python",
   "nbconvert_exporter": "python",
   "pygments_lexer": "ipython3",
   "version": "3.6.5"
  }
 },
 "nbformat": 4,
 "nbformat_minor": 2
}
